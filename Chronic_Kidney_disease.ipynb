{
  "nbformat": 4,
  "nbformat_minor": 0,
  "metadata": {
    "colab": {
      "name": "Chronic Kidney disease.ipynb",
      "provenance": [],
      "collapsed_sections": [],
      "mount_file_id": "18RFkF071VVTzMrOJ9Q_rKJ2dy58Ba4F7",
      "authorship_tag": "ABX9TyMfeq0zZ0VdOgyEHNlDKVnO",
      "include_colab_link": true
    },
    "kernelspec": {
      "name": "python3",
      "display_name": "Python 3"
    },
    "language_info": {
      "name": "python"
    }
  },
  "cells": [
    {
      "cell_type": "markdown",
      "metadata": {
        "id": "view-in-github",
        "colab_type": "text"
      },
      "source": [
        "<a href=\"https://colab.research.google.com/github/Yamini070803/Chronic-Kidney-Disease/blob/main/Chronic_Kidney_disease.ipynb\" target=\"_parent\"><img src=\"https://colab.research.google.com/assets/colab-badge.svg\" alt=\"Open In Colab\"/></a>"
      ]
    },
    {
      "cell_type": "code",
      "source": [
        "import pandas as pd\n",
        "import numpy as np\n",
        "import matplotlib.pyplot as plt\n",
        "from sklearn.model_selection import GridSearchCV, train_test_split, cross_val_score\n",
        "from sklearn.preprocessing import StandardScaler\n",
        "from sklearn.metrics import r2_score\n",
        "import scipy.stats as stats\n",
        "import seaborn as sns\n",
        "\n",
        "%matplotlib inline"
      ],
      "metadata": {
        "id": "RRAiDds19eUz"
      },
      "execution_count": null,
      "outputs": []
    },
    {
      "cell_type": "code",
      "source": [
        "df = pd.read_csv(\"Kidney_Disease.csv\")\n",
        "data = df\n",
        "data.head()"
      ],
      "metadata": {
        "colab": {
          "base_uri": "https://localhost:8080/",
          "height": 206
        },
        "id": "me1we_jG-TxN",
        "outputId": "8e8b01c6-91c5-4b12-c54a-d46c3c7100c5"
      },
      "execution_count": null,
      "outputs": [
        {
          "output_type": "execute_result",
          "data": {
            "text/plain": [
              "     Bp     Sg   Al   Su  Rbc    Bu   Sc     Sod   Pot  Hemo    Wbcc  Rbcc  \\\n",
              "0  80.0  1.020  1.0  0.0  1.0  36.0  1.2  137.53  4.63  15.4  7800.0  5.20   \n",
              "1  50.0  1.020  4.0  0.0  1.0  18.0  0.8  137.53  4.63  11.3  6000.0  4.71   \n",
              "2  80.0  1.010  2.0  3.0  1.0  53.0  1.8  137.53  4.63   9.6  7500.0  4.71   \n",
              "3  70.0  1.005  4.0  0.0  1.0  56.0  3.8  111.00  2.50  11.2  6700.0  3.90   \n",
              "4  80.0  1.010  2.0  0.0  1.0  26.0  1.4  137.53  4.63  11.6  7300.0  4.60   \n",
              "\n",
              "   Htn  Class  \n",
              "0  1.0      1  \n",
              "1  0.0      1  \n",
              "2  0.0      1  \n",
              "3  1.0      1  \n",
              "4  0.0      1  "
            ],
            "text/html": [
              "\n",
              "  <div id=\"df-90ac5dd2-411d-480b-8bc7-1e7af25bfef2\">\n",
              "    <div class=\"colab-df-container\">\n",
              "      <div>\n",
              "<style scoped>\n",
              "    .dataframe tbody tr th:only-of-type {\n",
              "        vertical-align: middle;\n",
              "    }\n",
              "\n",
              "    .dataframe tbody tr th {\n",
              "        vertical-align: top;\n",
              "    }\n",
              "\n",
              "    .dataframe thead th {\n",
              "        text-align: right;\n",
              "    }\n",
              "</style>\n",
              "<table border=\"1\" class=\"dataframe\">\n",
              "  <thead>\n",
              "    <tr style=\"text-align: right;\">\n",
              "      <th></th>\n",
              "      <th>Bp</th>\n",
              "      <th>Sg</th>\n",
              "      <th>Al</th>\n",
              "      <th>Su</th>\n",
              "      <th>Rbc</th>\n",
              "      <th>Bu</th>\n",
              "      <th>Sc</th>\n",
              "      <th>Sod</th>\n",
              "      <th>Pot</th>\n",
              "      <th>Hemo</th>\n",
              "      <th>Wbcc</th>\n",
              "      <th>Rbcc</th>\n",
              "      <th>Htn</th>\n",
              "      <th>Class</th>\n",
              "    </tr>\n",
              "  </thead>\n",
              "  <tbody>\n",
              "    <tr>\n",
              "      <th>0</th>\n",
              "      <td>80.0</td>\n",
              "      <td>1.020</td>\n",
              "      <td>1.0</td>\n",
              "      <td>0.0</td>\n",
              "      <td>1.0</td>\n",
              "      <td>36.0</td>\n",
              "      <td>1.2</td>\n",
              "      <td>137.53</td>\n",
              "      <td>4.63</td>\n",
              "      <td>15.4</td>\n",
              "      <td>7800.0</td>\n",
              "      <td>5.20</td>\n",
              "      <td>1.0</td>\n",
              "      <td>1</td>\n",
              "    </tr>\n",
              "    <tr>\n",
              "      <th>1</th>\n",
              "      <td>50.0</td>\n",
              "      <td>1.020</td>\n",
              "      <td>4.0</td>\n",
              "      <td>0.0</td>\n",
              "      <td>1.0</td>\n",
              "      <td>18.0</td>\n",
              "      <td>0.8</td>\n",
              "      <td>137.53</td>\n",
              "      <td>4.63</td>\n",
              "      <td>11.3</td>\n",
              "      <td>6000.0</td>\n",
              "      <td>4.71</td>\n",
              "      <td>0.0</td>\n",
              "      <td>1</td>\n",
              "    </tr>\n",
              "    <tr>\n",
              "      <th>2</th>\n",
              "      <td>80.0</td>\n",
              "      <td>1.010</td>\n",
              "      <td>2.0</td>\n",
              "      <td>3.0</td>\n",
              "      <td>1.0</td>\n",
              "      <td>53.0</td>\n",
              "      <td>1.8</td>\n",
              "      <td>137.53</td>\n",
              "      <td>4.63</td>\n",
              "      <td>9.6</td>\n",
              "      <td>7500.0</td>\n",
              "      <td>4.71</td>\n",
              "      <td>0.0</td>\n",
              "      <td>1</td>\n",
              "    </tr>\n",
              "    <tr>\n",
              "      <th>3</th>\n",
              "      <td>70.0</td>\n",
              "      <td>1.005</td>\n",
              "      <td>4.0</td>\n",
              "      <td>0.0</td>\n",
              "      <td>1.0</td>\n",
              "      <td>56.0</td>\n",
              "      <td>3.8</td>\n",
              "      <td>111.00</td>\n",
              "      <td>2.50</td>\n",
              "      <td>11.2</td>\n",
              "      <td>6700.0</td>\n",
              "      <td>3.90</td>\n",
              "      <td>1.0</td>\n",
              "      <td>1</td>\n",
              "    </tr>\n",
              "    <tr>\n",
              "      <th>4</th>\n",
              "      <td>80.0</td>\n",
              "      <td>1.010</td>\n",
              "      <td>2.0</td>\n",
              "      <td>0.0</td>\n",
              "      <td>1.0</td>\n",
              "      <td>26.0</td>\n",
              "      <td>1.4</td>\n",
              "      <td>137.53</td>\n",
              "      <td>4.63</td>\n",
              "      <td>11.6</td>\n",
              "      <td>7300.0</td>\n",
              "      <td>4.60</td>\n",
              "      <td>0.0</td>\n",
              "      <td>1</td>\n",
              "    </tr>\n",
              "  </tbody>\n",
              "</table>\n",
              "</div>\n",
              "      <button class=\"colab-df-convert\" onclick=\"convertToInteractive('df-90ac5dd2-411d-480b-8bc7-1e7af25bfef2')\"\n",
              "              title=\"Convert this dataframe to an interactive table.\"\n",
              "              style=\"display:none;\">\n",
              "        \n",
              "  <svg xmlns=\"http://www.w3.org/2000/svg\" height=\"24px\"viewBox=\"0 0 24 24\"\n",
              "       width=\"24px\">\n",
              "    <path d=\"M0 0h24v24H0V0z\" fill=\"none\"/>\n",
              "    <path d=\"M18.56 5.44l.94 2.06.94-2.06 2.06-.94-2.06-.94-.94-2.06-.94 2.06-2.06.94zm-11 1L8.5 8.5l.94-2.06 2.06-.94-2.06-.94L8.5 2.5l-.94 2.06-2.06.94zm10 10l.94 2.06.94-2.06 2.06-.94-2.06-.94-.94-2.06-.94 2.06-2.06.94z\"/><path d=\"M17.41 7.96l-1.37-1.37c-.4-.4-.92-.59-1.43-.59-.52 0-1.04.2-1.43.59L10.3 9.45l-7.72 7.72c-.78.78-.78 2.05 0 2.83L4 21.41c.39.39.9.59 1.41.59.51 0 1.02-.2 1.41-.59l7.78-7.78 2.81-2.81c.8-.78.8-2.07 0-2.86zM5.41 20L4 18.59l7.72-7.72 1.47 1.35L5.41 20z\"/>\n",
              "  </svg>\n",
              "      </button>\n",
              "      \n",
              "  <style>\n",
              "    .colab-df-container {\n",
              "      display:flex;\n",
              "      flex-wrap:wrap;\n",
              "      gap: 12px;\n",
              "    }\n",
              "\n",
              "    .colab-df-convert {\n",
              "      background-color: #E8F0FE;\n",
              "      border: none;\n",
              "      border-radius: 50%;\n",
              "      cursor: pointer;\n",
              "      display: none;\n",
              "      fill: #1967D2;\n",
              "      height: 32px;\n",
              "      padding: 0 0 0 0;\n",
              "      width: 32px;\n",
              "    }\n",
              "\n",
              "    .colab-df-convert:hover {\n",
              "      background-color: #E2EBFA;\n",
              "      box-shadow: 0px 1px 2px rgba(60, 64, 67, 0.3), 0px 1px 3px 1px rgba(60, 64, 67, 0.15);\n",
              "      fill: #174EA6;\n",
              "    }\n",
              "\n",
              "    [theme=dark] .colab-df-convert {\n",
              "      background-color: #3B4455;\n",
              "      fill: #D2E3FC;\n",
              "    }\n",
              "\n",
              "    [theme=dark] .colab-df-convert:hover {\n",
              "      background-color: #434B5C;\n",
              "      box-shadow: 0px 1px 3px 1px rgba(0, 0, 0, 0.15);\n",
              "      filter: drop-shadow(0px 1px 2px rgba(0, 0, 0, 0.3));\n",
              "      fill: #FFFFFF;\n",
              "    }\n",
              "  </style>\n",
              "\n",
              "      <script>\n",
              "        const buttonEl =\n",
              "          document.querySelector('#df-90ac5dd2-411d-480b-8bc7-1e7af25bfef2 button.colab-df-convert');\n",
              "        buttonEl.style.display =\n",
              "          google.colab.kernel.accessAllowed ? 'block' : 'none';\n",
              "\n",
              "        async function convertToInteractive(key) {\n",
              "          const element = document.querySelector('#df-90ac5dd2-411d-480b-8bc7-1e7af25bfef2');\n",
              "          const dataTable =\n",
              "            await google.colab.kernel.invokeFunction('convertToInteractive',\n",
              "                                                     [key], {});\n",
              "          if (!dataTable) return;\n",
              "\n",
              "          const docLinkHtml = 'Like what you see? Visit the ' +\n",
              "            '<a target=\"_blank\" href=https://colab.research.google.com/notebooks/data_table.ipynb>data table notebook</a>'\n",
              "            + ' to learn more about interactive tables.';\n",
              "          element.innerHTML = '';\n",
              "          dataTable['output_type'] = 'display_data';\n",
              "          await google.colab.output.renderOutput(dataTable, element);\n",
              "          const docLink = document.createElement('div');\n",
              "          docLink.innerHTML = docLinkHtml;\n",
              "          element.appendChild(docLink);\n",
              "        }\n",
              "      </script>\n",
              "    </div>\n",
              "  </div>\n",
              "  "
            ]
          },
          "metadata": {},
          "execution_count": 121
        }
      ]
    },
    {
      "cell_type": "code",
      "source": [
        "data.shape"
      ],
      "metadata": {
        "colab": {
          "base_uri": "https://localhost:8080/"
        },
        "id": "r6ApiQR2-Ts1",
        "outputId": "a57482ce-94b5-44df-90cd-89209f7e5766"
      },
      "execution_count": null,
      "outputs": [
        {
          "output_type": "execute_result",
          "data": {
            "text/plain": [
              "(400, 14)"
            ]
          },
          "metadata": {},
          "execution_count": 122
        }
      ]
    },
    {
      "cell_type": "code",
      "source": [
        "df.info()"
      ],
      "metadata": {
        "colab": {
          "base_uri": "https://localhost:8080/"
        },
        "id": "ferJ_w4W-ToC",
        "outputId": "43ea87b9-b882-4297-bbb3-504a400b1cac"
      },
      "execution_count": null,
      "outputs": [
        {
          "output_type": "stream",
          "name": "stdout",
          "text": [
            "<class 'pandas.core.frame.DataFrame'>\n",
            "RangeIndex: 400 entries, 0 to 399\n",
            "Data columns (total 14 columns):\n",
            " #   Column  Non-Null Count  Dtype  \n",
            "---  ------  --------------  -----  \n",
            " 0   Bp      400 non-null    float64\n",
            " 1   Sg      400 non-null    float64\n",
            " 2   Al      400 non-null    float64\n",
            " 3   Su      400 non-null    float64\n",
            " 4   Rbc     400 non-null    float64\n",
            " 5   Bu      400 non-null    float64\n",
            " 6   Sc      400 non-null    float64\n",
            " 7   Sod     400 non-null    float64\n",
            " 8   Pot     400 non-null    float64\n",
            " 9   Hemo    400 non-null    float64\n",
            " 10  Wbcc    400 non-null    float64\n",
            " 11  Rbcc    400 non-null    float64\n",
            " 12  Htn     400 non-null    float64\n",
            " 13  Class   400 non-null    int64  \n",
            "dtypes: float64(13), int64(1)\n",
            "memory usage: 43.9 KB\n"
          ]
        }
      ]
    },
    {
      "cell_type": "code",
      "source": [
        "df.describe()"
      ],
      "metadata": {
        "colab": {
          "base_uri": "https://localhost:8080/",
          "height": 364
        },
        "id": "5QvdhNZU-TlU",
        "outputId": "e385f44a-11c6-459e-afb6-7a5c220c73af"
      },
      "execution_count": null,
      "outputs": [
        {
          "output_type": "execute_result",
          "data": {
            "text/plain": [
              "               Bp          Sg          Al          Su         Rbc         Bu  \\\n",
              "count  400.000000  400.000000  400.000000  400.000000  400.000000  400.00000   \n",
              "mean    76.455000    1.017712    1.015000    0.395000    0.882500   57.40550   \n",
              "std     13.476536    0.005434    1.272329    1.040038    0.322418   49.28597   \n",
              "min     50.000000    1.005000    0.000000    0.000000    0.000000    1.50000   \n",
              "25%     70.000000    1.015000    0.000000    0.000000    1.000000   27.00000   \n",
              "50%     78.000000    1.020000    1.000000    0.000000    1.000000   44.00000   \n",
              "75%     80.000000    1.020000    2.000000    0.000000    1.000000   61.75000   \n",
              "max    180.000000    1.025000    5.000000    5.000000    1.000000  391.00000   \n",
              "\n",
              "              Sc         Sod         Pot        Hemo          Wbcc  \\\n",
              "count  400.00000  400.000000  400.000000  400.000000    400.000000   \n",
              "mean     3.07235  137.529025    4.627850   12.526900   8406.090000   \n",
              "std      5.61749    9.204273    2.819783    2.716171   2523.219976   \n",
              "min      0.40000    4.500000    2.500000    3.100000   2200.000000   \n",
              "25%      0.90000  135.000000    4.000000   10.875000   6975.000000   \n",
              "50%      1.40000  137.530000    4.630000   12.530000   8406.000000   \n",
              "75%      3.07000  141.000000    4.800000   14.625000   9400.000000   \n",
              "max     76.00000  163.000000   47.000000   17.800000  26400.000000   \n",
              "\n",
              "             Rbcc         Htn       Class  \n",
              "count  400.000000  400.000000  400.000000  \n",
              "mean     4.708275    0.369350    0.625000  \n",
              "std      0.840315    0.482023    0.484729  \n",
              "min      2.100000    0.000000    0.000000  \n",
              "25%      4.500000    0.000000    0.000000  \n",
              "50%      4.710000    0.000000    1.000000  \n",
              "75%      5.100000    1.000000    1.000000  \n",
              "max      8.000000    1.000000    1.000000  "
            ],
            "text/html": [
              "\n",
              "  <div id=\"df-2cf54dab-f477-47e2-b966-3c63550bfa63\">\n",
              "    <div class=\"colab-df-container\">\n",
              "      <div>\n",
              "<style scoped>\n",
              "    .dataframe tbody tr th:only-of-type {\n",
              "        vertical-align: middle;\n",
              "    }\n",
              "\n",
              "    .dataframe tbody tr th {\n",
              "        vertical-align: top;\n",
              "    }\n",
              "\n",
              "    .dataframe thead th {\n",
              "        text-align: right;\n",
              "    }\n",
              "</style>\n",
              "<table border=\"1\" class=\"dataframe\">\n",
              "  <thead>\n",
              "    <tr style=\"text-align: right;\">\n",
              "      <th></th>\n",
              "      <th>Bp</th>\n",
              "      <th>Sg</th>\n",
              "      <th>Al</th>\n",
              "      <th>Su</th>\n",
              "      <th>Rbc</th>\n",
              "      <th>Bu</th>\n",
              "      <th>Sc</th>\n",
              "      <th>Sod</th>\n",
              "      <th>Pot</th>\n",
              "      <th>Hemo</th>\n",
              "      <th>Wbcc</th>\n",
              "      <th>Rbcc</th>\n",
              "      <th>Htn</th>\n",
              "      <th>Class</th>\n",
              "    </tr>\n",
              "  </thead>\n",
              "  <tbody>\n",
              "    <tr>\n",
              "      <th>count</th>\n",
              "      <td>400.000000</td>\n",
              "      <td>400.000000</td>\n",
              "      <td>400.000000</td>\n",
              "      <td>400.000000</td>\n",
              "      <td>400.000000</td>\n",
              "      <td>400.00000</td>\n",
              "      <td>400.00000</td>\n",
              "      <td>400.000000</td>\n",
              "      <td>400.000000</td>\n",
              "      <td>400.000000</td>\n",
              "      <td>400.000000</td>\n",
              "      <td>400.000000</td>\n",
              "      <td>400.000000</td>\n",
              "      <td>400.000000</td>\n",
              "    </tr>\n",
              "    <tr>\n",
              "      <th>mean</th>\n",
              "      <td>76.455000</td>\n",
              "      <td>1.017712</td>\n",
              "      <td>1.015000</td>\n",
              "      <td>0.395000</td>\n",
              "      <td>0.882500</td>\n",
              "      <td>57.40550</td>\n",
              "      <td>3.07235</td>\n",
              "      <td>137.529025</td>\n",
              "      <td>4.627850</td>\n",
              "      <td>12.526900</td>\n",
              "      <td>8406.090000</td>\n",
              "      <td>4.708275</td>\n",
              "      <td>0.369350</td>\n",
              "      <td>0.625000</td>\n",
              "    </tr>\n",
              "    <tr>\n",
              "      <th>std</th>\n",
              "      <td>13.476536</td>\n",
              "      <td>0.005434</td>\n",
              "      <td>1.272329</td>\n",
              "      <td>1.040038</td>\n",
              "      <td>0.322418</td>\n",
              "      <td>49.28597</td>\n",
              "      <td>5.61749</td>\n",
              "      <td>9.204273</td>\n",
              "      <td>2.819783</td>\n",
              "      <td>2.716171</td>\n",
              "      <td>2523.219976</td>\n",
              "      <td>0.840315</td>\n",
              "      <td>0.482023</td>\n",
              "      <td>0.484729</td>\n",
              "    </tr>\n",
              "    <tr>\n",
              "      <th>min</th>\n",
              "      <td>50.000000</td>\n",
              "      <td>1.005000</td>\n",
              "      <td>0.000000</td>\n",
              "      <td>0.000000</td>\n",
              "      <td>0.000000</td>\n",
              "      <td>1.50000</td>\n",
              "      <td>0.40000</td>\n",
              "      <td>4.500000</td>\n",
              "      <td>2.500000</td>\n",
              "      <td>3.100000</td>\n",
              "      <td>2200.000000</td>\n",
              "      <td>2.100000</td>\n",
              "      <td>0.000000</td>\n",
              "      <td>0.000000</td>\n",
              "    </tr>\n",
              "    <tr>\n",
              "      <th>25%</th>\n",
              "      <td>70.000000</td>\n",
              "      <td>1.015000</td>\n",
              "      <td>0.000000</td>\n",
              "      <td>0.000000</td>\n",
              "      <td>1.000000</td>\n",
              "      <td>27.00000</td>\n",
              "      <td>0.90000</td>\n",
              "      <td>135.000000</td>\n",
              "      <td>4.000000</td>\n",
              "      <td>10.875000</td>\n",
              "      <td>6975.000000</td>\n",
              "      <td>4.500000</td>\n",
              "      <td>0.000000</td>\n",
              "      <td>0.000000</td>\n",
              "    </tr>\n",
              "    <tr>\n",
              "      <th>50%</th>\n",
              "      <td>78.000000</td>\n",
              "      <td>1.020000</td>\n",
              "      <td>1.000000</td>\n",
              "      <td>0.000000</td>\n",
              "      <td>1.000000</td>\n",
              "      <td>44.00000</td>\n",
              "      <td>1.40000</td>\n",
              "      <td>137.530000</td>\n",
              "      <td>4.630000</td>\n",
              "      <td>12.530000</td>\n",
              "      <td>8406.000000</td>\n",
              "      <td>4.710000</td>\n",
              "      <td>0.000000</td>\n",
              "      <td>1.000000</td>\n",
              "    </tr>\n",
              "    <tr>\n",
              "      <th>75%</th>\n",
              "      <td>80.000000</td>\n",
              "      <td>1.020000</td>\n",
              "      <td>2.000000</td>\n",
              "      <td>0.000000</td>\n",
              "      <td>1.000000</td>\n",
              "      <td>61.75000</td>\n",
              "      <td>3.07000</td>\n",
              "      <td>141.000000</td>\n",
              "      <td>4.800000</td>\n",
              "      <td>14.625000</td>\n",
              "      <td>9400.000000</td>\n",
              "      <td>5.100000</td>\n",
              "      <td>1.000000</td>\n",
              "      <td>1.000000</td>\n",
              "    </tr>\n",
              "    <tr>\n",
              "      <th>max</th>\n",
              "      <td>180.000000</td>\n",
              "      <td>1.025000</td>\n",
              "      <td>5.000000</td>\n",
              "      <td>5.000000</td>\n",
              "      <td>1.000000</td>\n",
              "      <td>391.00000</td>\n",
              "      <td>76.00000</td>\n",
              "      <td>163.000000</td>\n",
              "      <td>47.000000</td>\n",
              "      <td>17.800000</td>\n",
              "      <td>26400.000000</td>\n",
              "      <td>8.000000</td>\n",
              "      <td>1.000000</td>\n",
              "      <td>1.000000</td>\n",
              "    </tr>\n",
              "  </tbody>\n",
              "</table>\n",
              "</div>\n",
              "      <button class=\"colab-df-convert\" onclick=\"convertToInteractive('df-2cf54dab-f477-47e2-b966-3c63550bfa63')\"\n",
              "              title=\"Convert this dataframe to an interactive table.\"\n",
              "              style=\"display:none;\">\n",
              "        \n",
              "  <svg xmlns=\"http://www.w3.org/2000/svg\" height=\"24px\"viewBox=\"0 0 24 24\"\n",
              "       width=\"24px\">\n",
              "    <path d=\"M0 0h24v24H0V0z\" fill=\"none\"/>\n",
              "    <path d=\"M18.56 5.44l.94 2.06.94-2.06 2.06-.94-2.06-.94-.94-2.06-.94 2.06-2.06.94zm-11 1L8.5 8.5l.94-2.06 2.06-.94-2.06-.94L8.5 2.5l-.94 2.06-2.06.94zm10 10l.94 2.06.94-2.06 2.06-.94-2.06-.94-.94-2.06-.94 2.06-2.06.94z\"/><path d=\"M17.41 7.96l-1.37-1.37c-.4-.4-.92-.59-1.43-.59-.52 0-1.04.2-1.43.59L10.3 9.45l-7.72 7.72c-.78.78-.78 2.05 0 2.83L4 21.41c.39.39.9.59 1.41.59.51 0 1.02-.2 1.41-.59l7.78-7.78 2.81-2.81c.8-.78.8-2.07 0-2.86zM5.41 20L4 18.59l7.72-7.72 1.47 1.35L5.41 20z\"/>\n",
              "  </svg>\n",
              "      </button>\n",
              "      \n",
              "  <style>\n",
              "    .colab-df-container {\n",
              "      display:flex;\n",
              "      flex-wrap:wrap;\n",
              "      gap: 12px;\n",
              "    }\n",
              "\n",
              "    .colab-df-convert {\n",
              "      background-color: #E8F0FE;\n",
              "      border: none;\n",
              "      border-radius: 50%;\n",
              "      cursor: pointer;\n",
              "      display: none;\n",
              "      fill: #1967D2;\n",
              "      height: 32px;\n",
              "      padding: 0 0 0 0;\n",
              "      width: 32px;\n",
              "    }\n",
              "\n",
              "    .colab-df-convert:hover {\n",
              "      background-color: #E2EBFA;\n",
              "      box-shadow: 0px 1px 2px rgba(60, 64, 67, 0.3), 0px 1px 3px 1px rgba(60, 64, 67, 0.15);\n",
              "      fill: #174EA6;\n",
              "    }\n",
              "\n",
              "    [theme=dark] .colab-df-convert {\n",
              "      background-color: #3B4455;\n",
              "      fill: #D2E3FC;\n",
              "    }\n",
              "\n",
              "    [theme=dark] .colab-df-convert:hover {\n",
              "      background-color: #434B5C;\n",
              "      box-shadow: 0px 1px 3px 1px rgba(0, 0, 0, 0.15);\n",
              "      filter: drop-shadow(0px 1px 2px rgba(0, 0, 0, 0.3));\n",
              "      fill: #FFFFFF;\n",
              "    }\n",
              "  </style>\n",
              "\n",
              "      <script>\n",
              "        const buttonEl =\n",
              "          document.querySelector('#df-2cf54dab-f477-47e2-b966-3c63550bfa63 button.colab-df-convert');\n",
              "        buttonEl.style.display =\n",
              "          google.colab.kernel.accessAllowed ? 'block' : 'none';\n",
              "\n",
              "        async function convertToInteractive(key) {\n",
              "          const element = document.querySelector('#df-2cf54dab-f477-47e2-b966-3c63550bfa63');\n",
              "          const dataTable =\n",
              "            await google.colab.kernel.invokeFunction('convertToInteractive',\n",
              "                                                     [key], {});\n",
              "          if (!dataTable) return;\n",
              "\n",
              "          const docLinkHtml = 'Like what you see? Visit the ' +\n",
              "            '<a target=\"_blank\" href=https://colab.research.google.com/notebooks/data_table.ipynb>data table notebook</a>'\n",
              "            + ' to learn more about interactive tables.';\n",
              "          element.innerHTML = '';\n",
              "          dataTable['output_type'] = 'display_data';\n",
              "          await google.colab.output.renderOutput(dataTable, element);\n",
              "          const docLink = document.createElement('div');\n",
              "          docLink.innerHTML = docLinkHtml;\n",
              "          element.appendChild(docLink);\n",
              "        }\n",
              "      </script>\n",
              "    </div>\n",
              "  </div>\n",
              "  "
            ]
          },
          "metadata": {},
          "execution_count": 124
        }
      ]
    },
    {
      "cell_type": "code",
      "source": [
        "df.isna().sum()"
      ],
      "metadata": {
        "colab": {
          "base_uri": "https://localhost:8080/"
        },
        "id": "lxkugU3BANih",
        "outputId": "248d0ae5-4aa9-4830-aa33-0a5ffcacc8b6"
      },
      "execution_count": null,
      "outputs": [
        {
          "output_type": "execute_result",
          "data": {
            "text/plain": [
              "Bp       0\n",
              "Sg       0\n",
              "Al       0\n",
              "Su       0\n",
              "Rbc      0\n",
              "Bu       0\n",
              "Sc       0\n",
              "Sod      0\n",
              "Pot      0\n",
              "Hemo     0\n",
              "Wbcc     0\n",
              "Rbcc     0\n",
              "Htn      0\n",
              "Class    0\n",
              "dtype: int64"
            ]
          },
          "metadata": {},
          "execution_count": 125
        }
      ]
    },
    {
      "cell_type": "code",
      "source": [
        "df.corr()"
      ],
      "metadata": {
        "colab": {
          "base_uri": "https://localhost:8080/",
          "height": 488
        },
        "id": "Wdkv06cbAQqH",
        "outputId": "81de98c5-6e8b-436e-c31c-136f5eab9273"
      },
      "execution_count": null,
      "outputs": [
        {
          "output_type": "execute_result",
          "data": {
            "text/plain": [
              "             Bp        Sg        Al        Su       Rbc        Bu        Sc  \\\n",
              "Bp     1.000000 -0.164057  0.146060  0.190277 -0.151478  0.184173  0.144469   \n",
              "Sg    -0.164057  1.000000 -0.460835 -0.292053  0.253894 -0.249263 -0.176141   \n",
              "Al     0.146060 -0.460835  1.000000  0.262564 -0.374484  0.405035  0.229396   \n",
              "Su     0.190277 -0.292053  0.262564  1.000000 -0.092940  0.126074  0.094568   \n",
              "Rbc   -0.151478  0.253894 -0.374484 -0.092940  1.000000 -0.236270 -0.138391   \n",
              "Bu     0.184173 -0.249263  0.405035  0.126074 -0.236270  1.000000  0.581176   \n",
              "Sc     0.144469 -0.176141  0.229396  0.094568 -0.138391  0.581176  1.000000   \n",
              "Sod   -0.103383  0.217456 -0.270709 -0.053448  0.140568 -0.307357 -0.624493   \n",
              "Pot    0.066791 -0.063450  0.114484  0.180098  0.018164  0.336954  0.205361   \n",
              "Hemo  -0.279441  0.492103 -0.548681 -0.156875  0.280991 -0.540699 -0.342053   \n",
              "Wbcc   0.025963 -0.206880  0.200664  0.159033 -0.002205  0.041530 -0.005420   \n",
              "Rbcc  -0.220827  0.443437 -0.454131 -0.163825  0.202298 -0.465947 -0.323056   \n",
              "Htn    0.268003 -0.318956  0.478309  0.253179 -0.139342  0.387503  0.273904   \n",
              "Class  0.290145 -0.659504  0.598389  0.294555 -0.282642  0.371982  0.294076   \n",
              "\n",
              "            Sod       Pot      Hemo      Wbcc      Rbcc       Htn     Class  \n",
              "Bp    -0.103383  0.066791 -0.279441  0.025963 -0.220827  0.268003  0.290145  \n",
              "Sg     0.217456 -0.063450  0.492103 -0.206880  0.443437 -0.318956 -0.659504  \n",
              "Al    -0.270709  0.114484 -0.548681  0.200664 -0.454131  0.478309  0.598389  \n",
              "Su    -0.053448  0.180098 -0.156875  0.159033 -0.163825  0.253179  0.294555  \n",
              "Rbc    0.140568  0.018164  0.280991 -0.002205  0.202298 -0.139342 -0.282642  \n",
              "Bu    -0.307357  0.336954 -0.540699  0.041530 -0.465947  0.387503  0.371982  \n",
              "Sc    -0.624493  0.205361 -0.342053 -0.005420 -0.323056  0.273904  0.294076  \n",
              "Sod    1.000000  0.067414  0.333604  0.006334  0.316883 -0.306501 -0.342268  \n",
              "Pot    0.067414  1.000000 -0.100612 -0.074057 -0.120418  0.057028  0.077063  \n",
              "Hemo   0.333604 -0.100612  1.000000 -0.153806  0.681864 -0.576932 -0.729537  \n",
              "Wbcc   0.006334 -0.074057 -0.153806  1.000000 -0.151380  0.123790  0.205266  \n",
              "Rbcc   0.316883 -0.120418  0.681864 -0.151380  1.000000 -0.527051 -0.590248  \n",
              "Htn   -0.306501  0.057028 -0.576932  0.123790 -0.527051  1.000000  0.586340  \n",
              "Class -0.342268  0.077063 -0.729537  0.205266 -0.590248  0.586340  1.000000  "
            ],
            "text/html": [
              "\n",
              "  <div id=\"df-2bdbaea1-51d4-48e3-b957-029822aa4b5a\">\n",
              "    <div class=\"colab-df-container\">\n",
              "      <div>\n",
              "<style scoped>\n",
              "    .dataframe tbody tr th:only-of-type {\n",
              "        vertical-align: middle;\n",
              "    }\n",
              "\n",
              "    .dataframe tbody tr th {\n",
              "        vertical-align: top;\n",
              "    }\n",
              "\n",
              "    .dataframe thead th {\n",
              "        text-align: right;\n",
              "    }\n",
              "</style>\n",
              "<table border=\"1\" class=\"dataframe\">\n",
              "  <thead>\n",
              "    <tr style=\"text-align: right;\">\n",
              "      <th></th>\n",
              "      <th>Bp</th>\n",
              "      <th>Sg</th>\n",
              "      <th>Al</th>\n",
              "      <th>Su</th>\n",
              "      <th>Rbc</th>\n",
              "      <th>Bu</th>\n",
              "      <th>Sc</th>\n",
              "      <th>Sod</th>\n",
              "      <th>Pot</th>\n",
              "      <th>Hemo</th>\n",
              "      <th>Wbcc</th>\n",
              "      <th>Rbcc</th>\n",
              "      <th>Htn</th>\n",
              "      <th>Class</th>\n",
              "    </tr>\n",
              "  </thead>\n",
              "  <tbody>\n",
              "    <tr>\n",
              "      <th>Bp</th>\n",
              "      <td>1.000000</td>\n",
              "      <td>-0.164057</td>\n",
              "      <td>0.146060</td>\n",
              "      <td>0.190277</td>\n",
              "      <td>-0.151478</td>\n",
              "      <td>0.184173</td>\n",
              "      <td>0.144469</td>\n",
              "      <td>-0.103383</td>\n",
              "      <td>0.066791</td>\n",
              "      <td>-0.279441</td>\n",
              "      <td>0.025963</td>\n",
              "      <td>-0.220827</td>\n",
              "      <td>0.268003</td>\n",
              "      <td>0.290145</td>\n",
              "    </tr>\n",
              "    <tr>\n",
              "      <th>Sg</th>\n",
              "      <td>-0.164057</td>\n",
              "      <td>1.000000</td>\n",
              "      <td>-0.460835</td>\n",
              "      <td>-0.292053</td>\n",
              "      <td>0.253894</td>\n",
              "      <td>-0.249263</td>\n",
              "      <td>-0.176141</td>\n",
              "      <td>0.217456</td>\n",
              "      <td>-0.063450</td>\n",
              "      <td>0.492103</td>\n",
              "      <td>-0.206880</td>\n",
              "      <td>0.443437</td>\n",
              "      <td>-0.318956</td>\n",
              "      <td>-0.659504</td>\n",
              "    </tr>\n",
              "    <tr>\n",
              "      <th>Al</th>\n",
              "      <td>0.146060</td>\n",
              "      <td>-0.460835</td>\n",
              "      <td>1.000000</td>\n",
              "      <td>0.262564</td>\n",
              "      <td>-0.374484</td>\n",
              "      <td>0.405035</td>\n",
              "      <td>0.229396</td>\n",
              "      <td>-0.270709</td>\n",
              "      <td>0.114484</td>\n",
              "      <td>-0.548681</td>\n",
              "      <td>0.200664</td>\n",
              "      <td>-0.454131</td>\n",
              "      <td>0.478309</td>\n",
              "      <td>0.598389</td>\n",
              "    </tr>\n",
              "    <tr>\n",
              "      <th>Su</th>\n",
              "      <td>0.190277</td>\n",
              "      <td>-0.292053</td>\n",
              "      <td>0.262564</td>\n",
              "      <td>1.000000</td>\n",
              "      <td>-0.092940</td>\n",
              "      <td>0.126074</td>\n",
              "      <td>0.094568</td>\n",
              "      <td>-0.053448</td>\n",
              "      <td>0.180098</td>\n",
              "      <td>-0.156875</td>\n",
              "      <td>0.159033</td>\n",
              "      <td>-0.163825</td>\n",
              "      <td>0.253179</td>\n",
              "      <td>0.294555</td>\n",
              "    </tr>\n",
              "    <tr>\n",
              "      <th>Rbc</th>\n",
              "      <td>-0.151478</td>\n",
              "      <td>0.253894</td>\n",
              "      <td>-0.374484</td>\n",
              "      <td>-0.092940</td>\n",
              "      <td>1.000000</td>\n",
              "      <td>-0.236270</td>\n",
              "      <td>-0.138391</td>\n",
              "      <td>0.140568</td>\n",
              "      <td>0.018164</td>\n",
              "      <td>0.280991</td>\n",
              "      <td>-0.002205</td>\n",
              "      <td>0.202298</td>\n",
              "      <td>-0.139342</td>\n",
              "      <td>-0.282642</td>\n",
              "    </tr>\n",
              "    <tr>\n",
              "      <th>Bu</th>\n",
              "      <td>0.184173</td>\n",
              "      <td>-0.249263</td>\n",
              "      <td>0.405035</td>\n",
              "      <td>0.126074</td>\n",
              "      <td>-0.236270</td>\n",
              "      <td>1.000000</td>\n",
              "      <td>0.581176</td>\n",
              "      <td>-0.307357</td>\n",
              "      <td>0.336954</td>\n",
              "      <td>-0.540699</td>\n",
              "      <td>0.041530</td>\n",
              "      <td>-0.465947</td>\n",
              "      <td>0.387503</td>\n",
              "      <td>0.371982</td>\n",
              "    </tr>\n",
              "    <tr>\n",
              "      <th>Sc</th>\n",
              "      <td>0.144469</td>\n",
              "      <td>-0.176141</td>\n",
              "      <td>0.229396</td>\n",
              "      <td>0.094568</td>\n",
              "      <td>-0.138391</td>\n",
              "      <td>0.581176</td>\n",
              "      <td>1.000000</td>\n",
              "      <td>-0.624493</td>\n",
              "      <td>0.205361</td>\n",
              "      <td>-0.342053</td>\n",
              "      <td>-0.005420</td>\n",
              "      <td>-0.323056</td>\n",
              "      <td>0.273904</td>\n",
              "      <td>0.294076</td>\n",
              "    </tr>\n",
              "    <tr>\n",
              "      <th>Sod</th>\n",
              "      <td>-0.103383</td>\n",
              "      <td>0.217456</td>\n",
              "      <td>-0.270709</td>\n",
              "      <td>-0.053448</td>\n",
              "      <td>0.140568</td>\n",
              "      <td>-0.307357</td>\n",
              "      <td>-0.624493</td>\n",
              "      <td>1.000000</td>\n",
              "      <td>0.067414</td>\n",
              "      <td>0.333604</td>\n",
              "      <td>0.006334</td>\n",
              "      <td>0.316883</td>\n",
              "      <td>-0.306501</td>\n",
              "      <td>-0.342268</td>\n",
              "    </tr>\n",
              "    <tr>\n",
              "      <th>Pot</th>\n",
              "      <td>0.066791</td>\n",
              "      <td>-0.063450</td>\n",
              "      <td>0.114484</td>\n",
              "      <td>0.180098</td>\n",
              "      <td>0.018164</td>\n",
              "      <td>0.336954</td>\n",
              "      <td>0.205361</td>\n",
              "      <td>0.067414</td>\n",
              "      <td>1.000000</td>\n",
              "      <td>-0.100612</td>\n",
              "      <td>-0.074057</td>\n",
              "      <td>-0.120418</td>\n",
              "      <td>0.057028</td>\n",
              "      <td>0.077063</td>\n",
              "    </tr>\n",
              "    <tr>\n",
              "      <th>Hemo</th>\n",
              "      <td>-0.279441</td>\n",
              "      <td>0.492103</td>\n",
              "      <td>-0.548681</td>\n",
              "      <td>-0.156875</td>\n",
              "      <td>0.280991</td>\n",
              "      <td>-0.540699</td>\n",
              "      <td>-0.342053</td>\n",
              "      <td>0.333604</td>\n",
              "      <td>-0.100612</td>\n",
              "      <td>1.000000</td>\n",
              "      <td>-0.153806</td>\n",
              "      <td>0.681864</td>\n",
              "      <td>-0.576932</td>\n",
              "      <td>-0.729537</td>\n",
              "    </tr>\n",
              "    <tr>\n",
              "      <th>Wbcc</th>\n",
              "      <td>0.025963</td>\n",
              "      <td>-0.206880</td>\n",
              "      <td>0.200664</td>\n",
              "      <td>0.159033</td>\n",
              "      <td>-0.002205</td>\n",
              "      <td>0.041530</td>\n",
              "      <td>-0.005420</td>\n",
              "      <td>0.006334</td>\n",
              "      <td>-0.074057</td>\n",
              "      <td>-0.153806</td>\n",
              "      <td>1.000000</td>\n",
              "      <td>-0.151380</td>\n",
              "      <td>0.123790</td>\n",
              "      <td>0.205266</td>\n",
              "    </tr>\n",
              "    <tr>\n",
              "      <th>Rbcc</th>\n",
              "      <td>-0.220827</td>\n",
              "      <td>0.443437</td>\n",
              "      <td>-0.454131</td>\n",
              "      <td>-0.163825</td>\n",
              "      <td>0.202298</td>\n",
              "      <td>-0.465947</td>\n",
              "      <td>-0.323056</td>\n",
              "      <td>0.316883</td>\n",
              "      <td>-0.120418</td>\n",
              "      <td>0.681864</td>\n",
              "      <td>-0.151380</td>\n",
              "      <td>1.000000</td>\n",
              "      <td>-0.527051</td>\n",
              "      <td>-0.590248</td>\n",
              "    </tr>\n",
              "    <tr>\n",
              "      <th>Htn</th>\n",
              "      <td>0.268003</td>\n",
              "      <td>-0.318956</td>\n",
              "      <td>0.478309</td>\n",
              "      <td>0.253179</td>\n",
              "      <td>-0.139342</td>\n",
              "      <td>0.387503</td>\n",
              "      <td>0.273904</td>\n",
              "      <td>-0.306501</td>\n",
              "      <td>0.057028</td>\n",
              "      <td>-0.576932</td>\n",
              "      <td>0.123790</td>\n",
              "      <td>-0.527051</td>\n",
              "      <td>1.000000</td>\n",
              "      <td>0.586340</td>\n",
              "    </tr>\n",
              "    <tr>\n",
              "      <th>Class</th>\n",
              "      <td>0.290145</td>\n",
              "      <td>-0.659504</td>\n",
              "      <td>0.598389</td>\n",
              "      <td>0.294555</td>\n",
              "      <td>-0.282642</td>\n",
              "      <td>0.371982</td>\n",
              "      <td>0.294076</td>\n",
              "      <td>-0.342268</td>\n",
              "      <td>0.077063</td>\n",
              "      <td>-0.729537</td>\n",
              "      <td>0.205266</td>\n",
              "      <td>-0.590248</td>\n",
              "      <td>0.586340</td>\n",
              "      <td>1.000000</td>\n",
              "    </tr>\n",
              "  </tbody>\n",
              "</table>\n",
              "</div>\n",
              "      <button class=\"colab-df-convert\" onclick=\"convertToInteractive('df-2bdbaea1-51d4-48e3-b957-029822aa4b5a')\"\n",
              "              title=\"Convert this dataframe to an interactive table.\"\n",
              "              style=\"display:none;\">\n",
              "        \n",
              "  <svg xmlns=\"http://www.w3.org/2000/svg\" height=\"24px\"viewBox=\"0 0 24 24\"\n",
              "       width=\"24px\">\n",
              "    <path d=\"M0 0h24v24H0V0z\" fill=\"none\"/>\n",
              "    <path d=\"M18.56 5.44l.94 2.06.94-2.06 2.06-.94-2.06-.94-.94-2.06-.94 2.06-2.06.94zm-11 1L8.5 8.5l.94-2.06 2.06-.94-2.06-.94L8.5 2.5l-.94 2.06-2.06.94zm10 10l.94 2.06.94-2.06 2.06-.94-2.06-.94-.94-2.06-.94 2.06-2.06.94z\"/><path d=\"M17.41 7.96l-1.37-1.37c-.4-.4-.92-.59-1.43-.59-.52 0-1.04.2-1.43.59L10.3 9.45l-7.72 7.72c-.78.78-.78 2.05 0 2.83L4 21.41c.39.39.9.59 1.41.59.51 0 1.02-.2 1.41-.59l7.78-7.78 2.81-2.81c.8-.78.8-2.07 0-2.86zM5.41 20L4 18.59l7.72-7.72 1.47 1.35L5.41 20z\"/>\n",
              "  </svg>\n",
              "      </button>\n",
              "      \n",
              "  <style>\n",
              "    .colab-df-container {\n",
              "      display:flex;\n",
              "      flex-wrap:wrap;\n",
              "      gap: 12px;\n",
              "    }\n",
              "\n",
              "    .colab-df-convert {\n",
              "      background-color: #E8F0FE;\n",
              "      border: none;\n",
              "      border-radius: 50%;\n",
              "      cursor: pointer;\n",
              "      display: none;\n",
              "      fill: #1967D2;\n",
              "      height: 32px;\n",
              "      padding: 0 0 0 0;\n",
              "      width: 32px;\n",
              "    }\n",
              "\n",
              "    .colab-df-convert:hover {\n",
              "      background-color: #E2EBFA;\n",
              "      box-shadow: 0px 1px 2px rgba(60, 64, 67, 0.3), 0px 1px 3px 1px rgba(60, 64, 67, 0.15);\n",
              "      fill: #174EA6;\n",
              "    }\n",
              "\n",
              "    [theme=dark] .colab-df-convert {\n",
              "      background-color: #3B4455;\n",
              "      fill: #D2E3FC;\n",
              "    }\n",
              "\n",
              "    [theme=dark] .colab-df-convert:hover {\n",
              "      background-color: #434B5C;\n",
              "      box-shadow: 0px 1px 3px 1px rgba(0, 0, 0, 0.15);\n",
              "      filter: drop-shadow(0px 1px 2px rgba(0, 0, 0, 0.3));\n",
              "      fill: #FFFFFF;\n",
              "    }\n",
              "  </style>\n",
              "\n",
              "      <script>\n",
              "        const buttonEl =\n",
              "          document.querySelector('#df-2bdbaea1-51d4-48e3-b957-029822aa4b5a button.colab-df-convert');\n",
              "        buttonEl.style.display =\n",
              "          google.colab.kernel.accessAllowed ? 'block' : 'none';\n",
              "\n",
              "        async function convertToInteractive(key) {\n",
              "          const element = document.querySelector('#df-2bdbaea1-51d4-48e3-b957-029822aa4b5a');\n",
              "          const dataTable =\n",
              "            await google.colab.kernel.invokeFunction('convertToInteractive',\n",
              "                                                     [key], {});\n",
              "          if (!dataTable) return;\n",
              "\n",
              "          const docLinkHtml = 'Like what you see? Visit the ' +\n",
              "            '<a target=\"_blank\" href=https://colab.research.google.com/notebooks/data_table.ipynb>data table notebook</a>'\n",
              "            + ' to learn more about interactive tables.';\n",
              "          element.innerHTML = '';\n",
              "          dataTable['output_type'] = 'display_data';\n",
              "          await google.colab.output.renderOutput(dataTable, element);\n",
              "          const docLink = document.createElement('div');\n",
              "          docLink.innerHTML = docLinkHtml;\n",
              "          element.appendChild(docLink);\n",
              "        }\n",
              "      </script>\n",
              "    </div>\n",
              "  </div>\n",
              "  "
            ]
          },
          "metadata": {},
          "execution_count": 126
        }
      ]
    },
    {
      "cell_type": "code",
      "source": [
        "df['Class'].value_counts()"
      ],
      "metadata": {
        "colab": {
          "base_uri": "https://localhost:8080/"
        },
        "id": "VscTRLgKATbf",
        "outputId": "83cad3ab-28c4-40f2-c36f-4aa1cf029215"
      },
      "execution_count": null,
      "outputs": [
        {
          "output_type": "execute_result",
          "data": {
            "text/plain": [
              "1    250\n",
              "0    150\n",
              "Name: Class, dtype: int64"
            ]
          },
          "metadata": {},
          "execution_count": 127
        }
      ]
    },
    {
      "cell_type": "code",
      "source": [
        "countNoDisease = len(df[df['Class'] == 0])\n",
        "countHaveDisease = len(df[df['Class'] == 1])\n",
        "print(\"Percentage of Patients Haven't Heart Disease: {:.2f}%\".format((countNoDisease / (len(df['Class']))*100)))\n",
        "print(\"Percentage of Patients Have Heart Disease: {:.2f}%\".format((countHaveDisease / (len(df['Class']))*100)))"
      ],
      "metadata": {
        "colab": {
          "base_uri": "https://localhost:8080/"
        },
        "id": "Jjv0YZVTAY7W",
        "outputId": "47fc1e78-f736-452c-f382-99de9c657dbc"
      },
      "execution_count": null,
      "outputs": [
        {
          "output_type": "stream",
          "name": "stdout",
          "text": [
            "Percentage of Patients Haven't Heart Disease: 37.50%\n",
            "Percentage of Patients Have Heart Disease: 62.50%\n"
          ]
        }
      ]
    },
    {
      "cell_type": "code",
      "source": [
        "df['Class'].value_counts().plot(kind='bar',color=['salmon','lightblue'],title=\"Count of Diagnosis of kidney disease\")"
      ],
      "metadata": {
        "colab": {
          "base_uri": "https://localhost:8080/",
          "height": 295
        },
        "id": "CVTaxz98AdR_",
        "outputId": "23178d70-04ba-447d-d7fe-6e41ebc36354"
      },
      "execution_count": null,
      "outputs": [
        {
          "output_type": "execute_result",
          "data": {
            "text/plain": [
              "<matplotlib.axes._subplots.AxesSubplot at 0x7fa947218910>"
            ]
          },
          "metadata": {},
          "execution_count": 129
        },
        {
          "output_type": "display_data",
          "data": {
            "text/plain": [
              "<Figure size 432x288 with 1 Axes>"
            ],
            "image/png": "[encoded data removed]"
          },
          "metadata": {
            "needs_background": "light"
          }
        }
      ]
    },
    {
      "cell_type": "code",
      "source": [
        "plt.subplot(121), sns.distplot(data['Bp'])\n",
        "plt.subplot(122), data['Bp'].plot.box(figsize=(16,5))\n",
        "plt.show()"
      ],
      "metadata": {
        "colab": {
          "base_uri": "https://localhost:8080/",
          "height": 389
        },
        "id": "Jei_GTk7Ang2",
        "outputId": "64e0f644-76f1-4d59-aca6-24e2331fe381"
      },
      "execution_count": null,
      "outputs": [
        {
          "output_type": "stream",
          "name": "stderr",
          "text": [
            "/usr/local/lib/python3.7/dist-packages/seaborn/distributions.py:2619: FutureWarning: `distplot` is a deprecated function and will be removed in a future version. Please adapt your code to use either `displot` (a figure-level function with similar flexibility) or `histplot` (an axes-level function for histograms).\n",
            "  warnings.warn(msg, FutureWarning)\n"
          ]
        },
        {
          "output_type": "display_data",
          "data": {
            "text/plain": [
              "<Figure size 1152x360 with 2 Axes>"
            ],
            "image/png": "[encoded data removed]"
          },
          "metadata": {
            "needs_background": "light"
          }
        }
      ]
    },
    {
      "cell_type": "code",
      "source": [
        "data['Class'] = data['Class'].map({'ckd':1,'notckd':0})\n",
        "data['Htn'] = data['Htn'].map({'yes':1,'no':0})\n",
        "data['Rbc'] = data['Rbc'].map({'abnormal':1,'normal':0})\n",
        "data['Class'].value_counts()"
      ],
      "metadata": {
        "colab": {
          "base_uri": "https://localhost:8080/"
        },
        "id": "TKRTosnUAuhG",
        "outputId": "daa179f3-05c8-4701-8112-86fac6657100"
      },
      "execution_count": null,
      "outputs": [
        {
          "output_type": "execute_result",
          "data": {
            "text/plain": [
              "Series([], Name: Class, dtype: int64)"
            ]
          },
          "metadata": {},
          "execution_count": 131
        }
      ]
    },
    {
      "cell_type": "code",
      "source": [
        "plt.figure(figsize = (19,19))\n",
        "sns.heatmap(data.corr(), annot = True, cmap = 'coolwarm') "
      ],
      "metadata": {
        "colab": {
          "base_uri": "https://localhost:8080/",
          "height": 1000
        },
        "id": "niuw8nHYAyo2",
        "outputId": "fbf36a10-fbe7-40b9-96c4-cf3953906547"
      },
      "execution_count": null,
      "outputs": [
        {
          "output_type": "execute_result",
          "data": {
            "text/plain": [
              "<matplotlib.axes._subplots.AxesSubplot at 0x7fa9470b53d0>"
            ]
          },
          "metadata": {},
          "execution_count": 132
        },
        {
          "output_type": "display_data",
          "data": {
            "text/plain": [
              "<Figure size 1368x1368 with 2 Axes>"
            ],
            "image/png": "[encoded data removed]"
          },
          "metadata": {
            "needs_background": "light"
          }
        }
      ]
    },
    {
      "cell_type": "code",
      "source": [
        "data.shape"
      ],
      "metadata": {
        "colab": {
          "base_uri": "https://localhost:8080/"
        },
        "id": "p52cc-O2A3k_",
        "outputId": "05a14168-f888-4716-b4d6-be246d23a9da"
      },
      "execution_count": null,
      "outputs": [
        {
          "output_type": "execute_result",
          "data": {
            "text/plain": [
              "(400, 14)"
            ]
          },
          "metadata": {},
          "execution_count": 133
        }
      ]
    },
    {
      "cell_type": "code",
      "source": [
        "data.columns"
      ],
      "metadata": {
        "colab": {
          "base_uri": "https://localhost:8080/"
        },
        "id": "8ypuGroqA3he",
        "outputId": "ee70fe8c-1e31-4bcb-d8bc-228020f749b0"
      },
      "execution_count": null,
      "outputs": [
        {
          "output_type": "execute_result",
          "data": {
            "text/plain": [
              "Index(['Bp', 'Sg', 'Al', 'Su', 'Rbc', 'Bu', 'Sc', 'Sod', 'Pot', 'Hemo', 'Wbcc',\n",
              "       'Rbcc', 'Htn', 'Class'],\n",
              "      dtype='object')"
            ]
          },
          "metadata": {},
          "execution_count": 134
        }
      ]
    },
    {
      "cell_type": "code",
      "source": [
        "data.shape[0], data.dropna().shape[0]"
      ],
      "metadata": {
        "colab": {
          "base_uri": "https://localhost:8080/"
        },
        "id": "sf0D12U9BAOU",
        "outputId": "e2eeb8b6-5e72-4b1a-83a9-b6b6c11222b9"
      },
      "execution_count": null,
      "outputs": [
        {
          "output_type": "execute_result",
          "data": {
            "text/plain": [
              "(400, 0)"
            ]
          },
          "metadata": {},
          "execution_count": 135
        }
      ]
    },
    {
      "cell_type": "code",
      "source": [
        "data.dropna(inplace=True)\n",
        "data.shape"
      ],
      "metadata": {
        "colab": {
          "base_uri": "https://localhost:8080/"
        },
        "id": "KeDC1NQpBALM",
        "outputId": "42203b88-2909-4993-fdf4-61eec754d1b0"
      },
      "execution_count": null,
      "outputs": [
        {
          "output_type": "execute_result",
          "data": {
            "text/plain": [
              "(0, 14)"
            ]
          },
          "metadata": {},
          "execution_count": 136
        }
      ]
    },
    {
      "cell_type": "code",
      "source": [
        "from sklearn.linear_model import LogisticRegression"
      ],
      "metadata": {
        "id": "CEtR49sWLJPe"
      },
      "execution_count": null,
      "outputs": []
    },
    {
      "cell_type": "code",
      "source": [
        "logreg = LogisticRegression()"
      ],
      "metadata": {
        "id": "67SK4TS4PYHi"
      },
      "execution_count": null,
      "outputs": []
    },
    {
      "cell_type": "code",
      "source": [
        "X = data.iloc[:,:-1]\n",
        "y = data['Class']"
      ],
      "metadata": {
        "id": "uHtcgO6OPcPe"
      },
      "execution_count": null,
      "outputs": []
    },
    {
      "cell_type": "code",
      "source": [
        "X_train, X_test, y_train, y_test = train_test_split(X,y, stratify = y, shuffle = True)"
      ],
      "metadata": {
        "id": "e2vMo4V5UJOj"
      },
      "execution_count": null,
      "outputs": []
    },
    {
      "cell_type": "code",
      "source": [
        "logreg.fit(X_train,y_train)"
      ],
      "metadata": {
        "id": "8T-dgaHPUJFE"
      },
      "execution_count": null,
      "outputs": []
    },
    {
      "cell_type": "code",
      "source": [
        "logreg.score(X_train,y_train)"
      ],
      "metadata": {
        "id": "S69K0v4TUJCC"
      },
      "execution_count": null,
      "outputs": []
    },
    {
      "cell_type": "code",
      "source": [
        "logreg.score(X_test,y_test)"
      ],
      "metadata": {
        "id": "J5ugXvVbUI58"
      },
      "execution_count": null,
      "outputs": []
    },
    {
      "cell_type": "code",
      "source": [
        "test_pred = logreg.predict(X_test)\n",
        "train_pred = logreg.predict(X_train)"
      ],
      "metadata": {
        "id": "MLxsPwnDUIvE"
      },
      "execution_count": null,
      "outputs": []
    },
    {
      "cell_type": "code",
      "source": [
        "from sklearn.metrics import accuracy_score, confusion_matrix\n",
        "print('Train Accuracy: ', accuracy_score(y_train, train_pred))\n",
        "print('Test Accuracy: ', accuracy_score(y_test, test_pred))"
      ],
      "metadata": {
        "id": "Q0tekox1UmSz"
      },
      "execution_count": null,
      "outputs": []
    },
    {
      "cell_type": "code",
      "source": [
        "pd.DataFrame(logreg.coef_, columns=X.columns)"
      ],
      "metadata": {
        "id": "nn7dotbFVa4Z"
      },
      "execution_count": null,
      "outputs": []
    },
    {
      "cell_type": "code",
      "source": [
        "sns.set(font_scale=1.5)"
      ],
      "metadata": {
        "id": "bQaYCmMeBdDr"
      },
      "execution_count": null,
      "outputs": []
    },
    {
      "cell_type": "code",
      "source": [
        "def plot_conf_mat(y_test,y_preds):\n",
        "    \n",
        "    \n",
        "    fig,ax=plt.subplots(figsize=(3,3))\n",
        "    ax=sns.heatmap(confusion_matrix(y_test,y_preds),annot=True,cbar=False)\n",
        "    plt.xlabel(\"True Label\")\n",
        "    plt.ylabel(\"Predicted Label\")"
      ],
      "metadata": {
        "id": "J14GVNZ5BiBr"
      },
      "execution_count": null,
      "outputs": []
    },
    {
      "cell_type": "code",
      "source": [
        "log_pred = logreg.predict(X_test)\n",
        "plot_conf_mat(y_test, log_pred)"
      ],
      "metadata": {
        "id": "XbLEGWvDBngb"
      },
      "execution_count": null,
      "outputs": []
    },
    {
      "cell_type": "code",
      "source": [
        "tn, fp, fn, tp = confusion_matrix(y_test, test_pred).ravel()\n",
        "\n",
        "print(f'True Neg: {tn}')\n",
        "print(f'False Pos: {fp}')\n",
        "print(f'False Neg: {fn}')\n",
        "print(f'True Pos: {tp}')"
      ],
      "metadata": {
        "id": "hoHGZ5Z5BqlD"
      },
      "execution_count": null,
      "outputs": []
    },
    {
      "cell_type": "code",
      "source": [
        "df[\"Class\"].value_counts()"
      ],
      "metadata": {
        "id": "JeTr5HcmBuVz"
      },
      "execution_count": null,
      "outputs": []
    },
    {
      "cell_type": "code",
      "source": [
        "balanced_df = pd.concat([df[df[\"class\"] == 0], df[df[\"class\"] == 1].sample(n = 115, replace = True)], axis = 0)\n",
        "balanced_df.reset_index(drop=True, inplace=True)\n",
        "balanced_df[\"class\"].value_counts()"
      ],
      "metadata": {
        "id": "6ApkIaCFB1ZP"
      },
      "execution_count": null,
      "outputs": []
    },
    {
      "cell_type": "code",
      "source": [
        "ss = StandardScaler()\n",
        "ss.fit(X_train)\n",
        "X_train = ss.transform(X_train)\n",
        "X_test = ss.transform(X_test)"
      ],
      "metadata": {
        "id": "R3LbySCRB1Vn"
      },
      "execution_count": null,
      "outputs": []
    },
    {
      "cell_type": "code",
      "source": [
        "from sklearn.neighbors import KNeighborsClassifier"
      ],
      "metadata": {
        "id": "_3emJUqTB8mC"
      },
      "execution_count": null,
      "outputs": []
    },
    {
      "cell_type": "code",
      "source": [
        "knn = KNeighborsClassifier()\n",
        "\n",
        "params = {\n",
        "    \"n_neighbors\":[3,5,7,9],\n",
        "    \"weights\":[\"uniform\",\"distance\"],\n",
        "    \"algorithm\":[\"ball_tree\",\"kd_tree\",\"brute\"],\n",
        "    \"leaf_size\":[25,30,35],\n",
        "    \"p\":[1,2]\n",
        "}\n",
        "\n",
        "gs = GridSearchCV(knn, param_grid=params)\n",
        "model = gs.fit(X_train,y_train)\n",
        "preds = model.predict(X_test)\n",
        "accuracy_score(y_test, preds)"
      ],
      "metadata": {
        "id": "ekNPxsC5B8by"
      },
      "execution_count": null,
      "outputs": []
    },
    {
      "cell_type": "code",
      "source": [
        "knn_pred = model.predict(X_test)\n",
        "plot_conf_mat(y_test, knn_pred)"
      ],
      "metadata": {
        "id": "4_8qzHU6CD-q"
      },
      "execution_count": null,
      "outputs": []
    },
    {
      "cell_type": "code",
      "source": [
        "tn, fp, fn, tp = confusion_matrix(y_test, preds).ravel()\n",
        "\n",
        "print(f'True Neg: {tn}')\n",
        "print(f'False Pos: {fp}')\n",
        "print(f'False Neg: {fn}')\n",
        "print(f'True Pos: {tp}')"
      ],
      "metadata": {
        "id": "2nVcXj-TCHin"
      },
      "execution_count": null,
      "outputs": []
    },
    {
      "cell_type": "code",
      "source": [
        "feature_dict=dict(zip(df.columns,list(logreg.coef_[0])))\n",
        "feature_dict"
      ],
      "metadata": {
        "id": "TzOXTyEjCKTR"
      },
      "execution_count": null,
      "outputs": []
    },
    {
      "cell_type": "code",
      "source": [
        "feature_df=pd.DataFrame(feature_dict,index=[0])\n",
        "feature_df.T.plot(kind=\"hist\",legend=False,title=\"Feature Importance\")"
      ],
      "metadata": {
        "id": "xhShPhiHCKI7"
      },
      "execution_count": null,
      "outputs": []
    },
    {
      "cell_type": "code",
      "source": [
        "feature_df=pd.DataFrame(feature_dict,index=[0])\n",
        "feature_df.T.plot(kind=\"bar\",legend=False,title=\"Feature Importance\")"
      ],
      "metadata": {
        "id": "vkE9f3zPCRA2"
      },
      "execution_count": null,
      "outputs": []
    },
    {
      "cell_type": "code",
      "source": [
        "import pickle\n",
        "saved_model = pickle.dumps(logreg)\n",
        "logreg_from_pickle = pickle.loads(saved_model)\n",
        "logreg_from_pickle.predict(X_test)"
      ],
      "metadata": {
        "id": "y02ciVkeCQ2x"
      },
      "execution_count": null,
      "outputs": []
    }
  ]
}